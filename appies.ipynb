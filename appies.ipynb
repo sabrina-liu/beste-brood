{
 "cells": [
  {
   "cell_type": "code",
   "execution_count": 2,
   "metadata": {},
   "outputs": [
    {
     "name": "stdout",
     "output_type": "stream",
     "text": [
      "Failed to retrieve the webpage. Status code: 403\n"
     ]
    }
   ],
   "source": [
    "import requests\n",
    "\n",
    "url = \"https://www.ah.nl/\"\n",
    "\n",
    "response = requests.get(url)\n",
    "\n",
    "if response.status_code == 200:\n",
    "    print(\"Here is the result:\")\n",
    "    print(f\"{response.text[:300]} ...\")\n",
    "else:\n",
    "    print(f\"Failed to retrieve the webpage. Status code: {response.status_code}\")\n"
   ]
  },
  {
   "cell_type": "code",
   "execution_count": 7,
   "metadata": {},
   "outputs": [
    {
     "ename": "AttributeError",
     "evalue": "'WebDriver' object has no attribute 'find_eements'",
     "output_type": "error",
     "traceback": [
      "\u001b[1;31m---------------------------------------------------------------------------\u001b[0m",
      "\u001b[1;31mAttributeError\u001b[0m                            Traceback (most recent call last)",
      "Cell \u001b[1;32mIn[7], line 45\u001b[0m\n\u001b[0;32m     42\u001b[0m     driver\u001b[38;5;241m.\u001b[39mquit()\n\u001b[0;32m     44\u001b[0m search_term \u001b[38;5;241m=\u001b[39m \u001b[38;5;124m\"\u001b[39m\u001b[38;5;124mAlbert Heijn\u001b[39m\u001b[38;5;124m\"\u001b[39m\n\u001b[1;32m---> 45\u001b[0m find_ah_product_page(search_term)\n",
      "Cell \u001b[1;32mIn[7], line 38\u001b[0m, in \u001b[0;36mfind_ah_product_page\u001b[1;34m(search_term)\u001b[0m\n\u001b[0;32m     35\u001b[0m producten_url \u001b[38;5;241m=\u001b[39m base_url \u001b[38;5;241m+\u001b[39m \u001b[38;5;124m\"\u001b[39m\u001b[38;5;124mproducten\u001b[39m\u001b[38;5;124m\"\u001b[39m\n\u001b[0;32m     36\u001b[0m driver\u001b[38;5;241m.\u001b[39mget(producten_url)\n\u001b[1;32m---> 38\u001b[0m categories \u001b[38;5;241m=\u001b[39m driver\u001b[38;5;241m.\u001b[39mfind_eements(By\u001b[38;5;241m.\u001b[39mCSS_SELECTOR, \u001b[38;5;124m'\u001b[39m\u001b[38;5;124mdiv.product-category-overview_category__vqzcb:nth-child(1) > div:nth-child(1) > a:nth-child(1)\u001b[39m\u001b[38;5;124m'\u001b[39m)\n\u001b[0;32m     39\u001b[0m \u001b[38;5;28;01mfor\u001b[39;00m category \u001b[38;5;129;01min\u001b[39;00m categories:\n\u001b[0;32m     40\u001b[0m     \u001b[38;5;28mprint\u001b[39m(category\u001b[38;5;241m.\u001b[39mtext)\n",
      "\u001b[1;31mAttributeError\u001b[0m: 'WebDriver' object has no attribute 'find_eements'"
     ]
    }
   ],
   "source": [
    "from selenium import webdriver\n",
    "from selenium.webdriver.chrome.options import Options\n",
    "from selenium.webdriver.chrome.service import Service\n",
    "from webdriver_manager.chrome import ChromeDriverManager\n",
    "import time\n",
    "from selenium.webdriver.common.by import By\n",
    "from selenium.webdriver.common.keys import Keys\n",
    "\n",
    "def find_ah_product_page(search_term):\n",
    "\n",
    "    options = Options()\n",
    "    user_agent = \"Mozilla/5.0 (Windows NT 10.0; Win64; x64) AppleWebKit/537.36 (KHTML, like Gecko) Chrome/98.0.4758.102 Safari/537.36\"\n",
    "    options.add_argument(f'user-agent={user_agent}')\n",
    "\n",
    "    driver = webdriver.Chrome(service=Service(ChromeDriverManager().install()))\n",
    "    driver.get(\"https://www.google.com\")\n",
    "\n",
    "    button = driver.find_element('id', 'W0wltc')\n",
    "    button.click()\n",
    "\n",
    "    search_bar = driver.find_element(\"name\", \"q\")\n",
    "    search_bar.send_keys(search_term)\n",
    "\n",
    "    search_bar.send_keys(Keys.RETURN)\n",
    "\n",
    "    time.sleep(3)\n",
    "\n",
    "    first_result = driver.find_element(By.CSS_SELECTOR, '#rso > div.hlcw0c > div > div > div > div > div > div > div > div.yuRUbf > div > span > a > h3')\n",
    "    first_result.click()\n",
    "\n",
    "    button = driver.find_element('id', 'decline-cookies')\n",
    "    button.click()\n",
    "\n",
    "    base_url = driver.current_url\n",
    "    producten_url = base_url + \"producten\"\n",
    "    driver.get(producten_url)\n",
    "\n",
    "    categories = driver.find_elements(By.CSS_SELECTOR, 'div.product-category-overview_category__vqzcb:nth-child(1) > div:nth-child(1) > a:nth-child(1)')\n",
    "    for category in categories:\n",
    "        print(category.text)\n",
    "\n",
    "    driver.quit()\n",
    "\n",
    "search_term = \"Albert Heijn\"\n",
    "find_ah_product_page(search_term)\n",
    "    \n"
   ]
  },
  {
   "cell_type": "code",
   "execution_count": 15,
   "metadata": {},
   "outputs": [],
   "source": [
    "from selenium import webdriver\n",
    "from selenium.webdriver.chrome.options import Options\n",
    "from selenium.webdriver.chrome.service import Service\n",
    "from webdriver_manager.chrome import ChromeDriverManager\n",
    "import time\n",
    "from selenium.webdriver.common.by import By\n",
    "from selenium.webdriver.common.keys import Keys\n",
    "\n",
    "\n",
    "\n",
    "options = Options()\n",
    "user_agent = \"Mozilla/5.0 (Windows NT 10.0; Win64; x64) AppleWebKit/537.36 (KHTML, like Gecko) Chrome/98.0.4758.102 Safari/537.36\"\n",
    "options.add_argument(f'user-agent={user_agent}')\n",
    "\n",
    "driver = webdriver.Chrome(service=Service(ChromeDriverManager().install()))\n",
    "driver.get(\"https://www.ah.nl/producten\")\n",
    "\n",
    "button = driver.find_element('id', 'decline-cookies')\n",
    "button.click()\n",
    "\n",
    "time.sleep(3)\n",
    "\n",
    "\n",
    "\n"
   ]
  },
  {
   "cell_type": "code",
   "execution_count": 16,
   "metadata": {},
   "outputs": [
    {
     "name": "stdout",
     "output_type": "stream",
     "text": [
      "Aardappel, groente, fruit\n",
      "https://www.ah.nl/producten/aardappel-groente-fruit\n",
      "Salades, pizza, maaltijden\n",
      "https://www.ah.nl/producten/salades-pizza-maaltijden\n",
      "Vlees, kip, vis, vega\n",
      "https://www.ah.nl/producten/vlees-kip-vis-vega\n",
      "Kaas, vleeswaren, tapas\n",
      "https://www.ah.nl/producten/kaas-vleeswaren-tapas\n",
      "Zuivel, plantaardig en eieren\n",
      "https://www.ah.nl/producten/zuivel-plantaardig-en-eieren\n",
      "Bakkerij en banket\n",
      "https://www.ah.nl/producten/bakkerij-en-banket\n",
      "Ontbijtgranen en beleg\n",
      "https://www.ah.nl/producten/ontbijtgranen-en-beleg\n",
      "Snoep, koek, chips en chocolade\n",
      "https://www.ah.nl/producten/snoep-koek-chips-en-chocolade\n",
      "Tussendoortjes\n",
      "https://www.ah.nl/producten/tussendoortjes\n",
      "Frisdrank, sappen, koffie, thee\n",
      "https://www.ah.nl/producten/frisdrank-sappen-koffie-thee\n",
      "Wijn en bubbels\n",
      "https://www.ah.nl/producten/wijn-en-bubbels\n",
      "Bier en aperitieven\n",
      "https://www.ah.nl/producten/bier-en-aperitieven\n",
      "Pasta, rijst en wereldkeuken\n",
      "https://www.ah.nl/producten/pasta-rijst-en-wereldkeuken\n",
      "Soepen, sauzen, kruiden, olie\n",
      "https://www.ah.nl/producten/soepen-sauzen-kruiden-olie\n",
      "Sport- en dieetvoeding\n",
      "https://www.ah.nl/producten/sport-en-dieetvoeding\n",
      "Diepvries\n",
      "https://www.ah.nl/producten/diepvries\n",
      "Drogisterij\n",
      "https://www.ah.nl/producten/drogisterij\n",
      "Baby en kind\n",
      "https://www.ah.nl/producten/baby-en-kind\n",
      "Huishouden\n",
      "https://www.ah.nl/producten/huishouden\n",
      "Huisdier\n",
      "https://www.ah.nl/producten/huisdier\n",
      "Koken, tafelen, vrije tijd\n",
      "https://www.ah.nl/producten/koken-tafelen-vrije-tijd\n"
     ]
    }
   ],
   "source": [
    "category_urls = []\n",
    "\n",
    "try:\n",
    "    category_elements = driver.find_elements(By.CSS_SELECTOR, '.taxonomy-card_title__vBWel a')\n",
    "    for element in category_elements:\n",
    "        print(element.text)\n",
    "        href = element.get_attribute('href')\n",
    "        category_urls.append(href)\n",
    "        print(href)\n",
    "except Exception as e:\n",
    "    print(\"Error finding categories:\", e)"
   ]
  },
  {
   "cell_type": "code",
   "execution_count": 26,
   "metadata": {},
   "outputs": [
    {
     "ename": "WebDriverException",
     "evalue": "Message: disconnected: Unable to receive message from renderer\n  (failed to check if window was closed: disconnected: not connected to DevTools)\n  (Session info: chrome=121.0.6167.185)\nStacktrace:\n\tGetHandleVerifier [0x0066E123+48179]\n\t(No symbol) [0x005F5D01]\n\t(No symbol) [0x004DD72D]\n\t(No symbol) [0x004CE8FE]\n\t(No symbol) [0x004CE924]\n\t(No symbol) [0x004CD3CD]\n\t(No symbol) [0x004CDB4B]\n\t(No symbol) [0x004CC975]\n\t(No symbol) [0x004E4D6E]\n\t(No symbol) [0x0050D9F3]\n\t(No symbol) [0x00533C8C]\n\t(No symbol) [0x0050D1AE]\n\t(No symbol) [0x00533F24]\n\t(No symbol) [0x0054AA1E]\n\t(No symbol) [0x00533A26]\n\t(No symbol) [0x0050B7BC]\n\t(No symbol) [0x0050C62D]\n\tGetHandleVerifier [0x00987C33+3299139]\n\tGetHandleVerifier [0x009C5BF2+3553026]\n\tGetHandleVerifier [0x009C0BCC+3532508]\n\tGetHandleVerifier [0x0070494E+664670]\n\t(No symbol) [0x00600AB4]\n\t(No symbol) [0x005FBF08]\n\t(No symbol) [0x005FC02D]\n\t(No symbol) [0x005EDD00]\n\tBaseThreadInitThunk [0x76BA7BA9+25]\n\tRtlInitializeExceptionChain [0x7728BD2B+107]\n\tRtlClearBits [0x7728BCAF+191]\n",
     "output_type": "error",
     "traceback": [
      "\u001b[1;31m---------------------------------------------------------------------------\u001b[0m",
      "\u001b[1;31mWebDriverException\u001b[0m                        Traceback (most recent call last)",
      "Cell \u001b[1;32mIn[26], line 42\u001b[0m\n\u001b[0;32m     40\u001b[0m driver \u001b[38;5;241m=\u001b[39m webdriver\u001b[38;5;241m.\u001b[39mChrome(service\u001b[38;5;241m=\u001b[39mService(ChromeDriverManager()\u001b[38;5;241m.\u001b[39minstall()), options\u001b[38;5;241m=\u001b[39moptions)\n\u001b[0;32m     41\u001b[0m category_url \u001b[38;5;241m=\u001b[39m category_urls[\u001b[38;5;241m1\u001b[39m] \n\u001b[1;32m---> 42\u001b[0m extract_ah_products(driver, category_url)\n",
      "Cell \u001b[1;32mIn[26], line 23\u001b[0m, in \u001b[0;36mextract_ah_products\u001b[1;34m(driver, category_url)\u001b[0m\n\u001b[0;32m     21\u001b[0m \u001b[38;5;28;01mtry\u001b[39;00m:\n\u001b[0;32m     22\u001b[0m     meer_resulten \u001b[38;5;241m=\u001b[39m driver\u001b[38;5;241m.\u001b[39mfind_element(By\u001b[38;5;241m.\u001b[39mCSS_SELECTOR, \u001b[38;5;124m'\u001b[39m\u001b[38;5;124m[data-testhook=\u001b[39m\u001b[38;5;124m\"\u001b[39m\u001b[38;5;124mload-more\u001b[39m\u001b[38;5;124m\"\u001b[39m\u001b[38;5;124m]\u001b[39m\u001b[38;5;124m'\u001b[39m)\n\u001b[1;32m---> 23\u001b[0m     meer_resulten\u001b[38;5;241m.\u001b[39mclick()\n\u001b[0;32m     24\u001b[0m     time\u001b[38;5;241m.\u001b[39msleep(\u001b[38;5;241m3\u001b[39m)\n\u001b[0;32m     25\u001b[0m \u001b[38;5;28;01mexcept\u001b[39;00m (NoSuchElementException, ElementClickInterceptedException):\n",
      "File \u001b[1;32mc:\\Users\\sabri\\anaconda3\\Lib\\site-packages\\selenium\\webdriver\\remote\\webelement.py:93\u001b[0m, in \u001b[0;36mWebElement.click\u001b[1;34m(self)\u001b[0m\n\u001b[0;32m     91\u001b[0m \u001b[38;5;28;01mdef\u001b[39;00m \u001b[38;5;21mclick\u001b[39m(\u001b[38;5;28mself\u001b[39m) \u001b[38;5;241m-\u001b[39m\u001b[38;5;241m>\u001b[39m \u001b[38;5;28;01mNone\u001b[39;00m:\n\u001b[0;32m     92\u001b[0m \u001b[38;5;250m    \u001b[39m\u001b[38;5;124;03m\"\"\"Clicks the element.\"\"\"\u001b[39;00m\n\u001b[1;32m---> 93\u001b[0m     \u001b[38;5;28mself\u001b[39m\u001b[38;5;241m.\u001b[39m_execute(Command\u001b[38;5;241m.\u001b[39mCLICK_ELEMENT)\n",
      "File \u001b[1;32mc:\\Users\\sabri\\anaconda3\\Lib\\site-packages\\selenium\\webdriver\\remote\\webelement.py:394\u001b[0m, in \u001b[0;36mWebElement._execute\u001b[1;34m(self, command, params)\u001b[0m\n\u001b[0;32m    392\u001b[0m     params \u001b[38;5;241m=\u001b[39m {}\n\u001b[0;32m    393\u001b[0m params[\u001b[38;5;124m\"\u001b[39m\u001b[38;5;124mid\u001b[39m\u001b[38;5;124m\"\u001b[39m] \u001b[38;5;241m=\u001b[39m \u001b[38;5;28mself\u001b[39m\u001b[38;5;241m.\u001b[39m_id\n\u001b[1;32m--> 394\u001b[0m \u001b[38;5;28;01mreturn\u001b[39;00m \u001b[38;5;28mself\u001b[39m\u001b[38;5;241m.\u001b[39m_parent\u001b[38;5;241m.\u001b[39mexecute(command, params)\n",
      "File \u001b[1;32mc:\\Users\\sabri\\anaconda3\\Lib\\site-packages\\selenium\\webdriver\\remote\\webdriver.py:344\u001b[0m, in \u001b[0;36mWebDriver.execute\u001b[1;34m(self, driver_command, params)\u001b[0m\n\u001b[0;32m    342\u001b[0m response \u001b[38;5;241m=\u001b[39m \u001b[38;5;28mself\u001b[39m\u001b[38;5;241m.\u001b[39mcommand_executor\u001b[38;5;241m.\u001b[39mexecute(driver_command, params)\n\u001b[0;32m    343\u001b[0m \u001b[38;5;28;01mif\u001b[39;00m response:\n\u001b[1;32m--> 344\u001b[0m     \u001b[38;5;28mself\u001b[39m\u001b[38;5;241m.\u001b[39merror_handler\u001b[38;5;241m.\u001b[39mcheck_response(response)\n\u001b[0;32m    345\u001b[0m     response[\u001b[38;5;124m\"\u001b[39m\u001b[38;5;124mvalue\u001b[39m\u001b[38;5;124m\"\u001b[39m] \u001b[38;5;241m=\u001b[39m \u001b[38;5;28mself\u001b[39m\u001b[38;5;241m.\u001b[39m_unwrap_value(response\u001b[38;5;241m.\u001b[39mget(\u001b[38;5;124m\"\u001b[39m\u001b[38;5;124mvalue\u001b[39m\u001b[38;5;124m\"\u001b[39m, \u001b[38;5;28;01mNone\u001b[39;00m))\n\u001b[0;32m    346\u001b[0m     \u001b[38;5;28;01mreturn\u001b[39;00m response\n",
      "File \u001b[1;32mc:\\Users\\sabri\\anaconda3\\Lib\\site-packages\\selenium\\webdriver\\remote\\errorhandler.py:229\u001b[0m, in \u001b[0;36mErrorHandler.check_response\u001b[1;34m(self, response)\u001b[0m\n\u001b[0;32m    227\u001b[0m         alert_text \u001b[38;5;241m=\u001b[39m value[\u001b[38;5;124m\"\u001b[39m\u001b[38;5;124malert\u001b[39m\u001b[38;5;124m\"\u001b[39m]\u001b[38;5;241m.\u001b[39mget(\u001b[38;5;124m\"\u001b[39m\u001b[38;5;124mtext\u001b[39m\u001b[38;5;124m\"\u001b[39m)\n\u001b[0;32m    228\u001b[0m     \u001b[38;5;28;01mraise\u001b[39;00m exception_class(message, screen, stacktrace, alert_text)  \u001b[38;5;66;03m# type: ignore[call-arg]  # mypy is not smart enough here\u001b[39;00m\n\u001b[1;32m--> 229\u001b[0m \u001b[38;5;28;01mraise\u001b[39;00m exception_class(message, screen, stacktrace)\n",
      "\u001b[1;31mWebDriverException\u001b[0m: Message: disconnected: Unable to receive message from renderer\n  (failed to check if window was closed: disconnected: not connected to DevTools)\n  (Session info: chrome=121.0.6167.185)\nStacktrace:\n\tGetHandleVerifier [0x0066E123+48179]\n\t(No symbol) [0x005F5D01]\n\t(No symbol) [0x004DD72D]\n\t(No symbol) [0x004CE8FE]\n\t(No symbol) [0x004CE924]\n\t(No symbol) [0x004CD3CD]\n\t(No symbol) [0x004CDB4B]\n\t(No symbol) [0x004CC975]\n\t(No symbol) [0x004E4D6E]\n\t(No symbol) [0x0050D9F3]\n\t(No symbol) [0x00533C8C]\n\t(No symbol) [0x0050D1AE]\n\t(No symbol) [0x00533F24]\n\t(No symbol) [0x0054AA1E]\n\t(No symbol) [0x00533A26]\n\t(No symbol) [0x0050B7BC]\n\t(No symbol) [0x0050C62D]\n\tGetHandleVerifier [0x00987C33+3299139]\n\tGetHandleVerifier [0x009C5BF2+3553026]\n\tGetHandleVerifier [0x009C0BCC+3532508]\n\tGetHandleVerifier [0x0070494E+664670]\n\t(No symbol) [0x00600AB4]\n\t(No symbol) [0x005FBF08]\n\t(No symbol) [0x005FC02D]\n\t(No symbol) [0x005EDD00]\n\tBaseThreadInitThunk [0x76BA7BA9+25]\n\tRtlInitializeExceptionChain [0x7728BD2B+107]\n\tRtlClearBits [0x7728BCAF+191]\n"
     ]
    }
   ],
   "source": [
    "from selenium.common.exceptions import NoSuchElementException, ElementClickInterceptedException\n",
    "\n",
    "producten = []\n",
    "\n",
    "def extract_ah_products(driver, category_url):\n",
    "\n",
    "    driver.get(category_url)\n",
    "\n",
    "    button = driver.find_element('id', 'decline-cookies')\n",
    "    button.click()\n",
    "\n",
    "    try:\n",
    "        ah_filter = driver.find_element(By.CSS_SELECTOR, 'a[aria-label=\"Filter op Merk: AH\"]')\n",
    "        ah_filter.click()\n",
    "        time.sleep(5)\n",
    "    except NoSuchElementException:\n",
    "        print(\"AH filter not found\")\n",
    "        return\n",
    "    \n",
    "    while True:\n",
    "        try:\n",
    "            meer_resulten = driver.find_element(By.CSS_SELECTOR, '[data-testhook=\"load-more\"]')\n",
    "            meer_resulten.click()\n",
    "            time.sleep(3)\n",
    "        except (NoSuchElementException, ElementClickInterceptedException):\n",
    "            continue\n",
    "\n",
    "    products = driver.find_elements(By.CSS_SELECTOR, '.product-card-portrait_link__5VsEK')\n",
    "    for product in products:\n",
    "        try:\n",
    "            alleen_in_de_winkel = product.find_element(By.CSS_SELECTOR, '[data-testhook=\"product-availability-label\"] span')\n",
    "            if \"Alleen in de winkel\" in alleen_in_de_winkel.text:\n",
    "                product_name = product.find_element(By.CSS_SELECTOR, '[data-testhook=\"product-title\"] span').text\n",
    "                print(product_name)\n",
    "                producten.append(product_name)\n",
    "        except NoSuchElementException:\n",
    "            continue\n",
    "\n",
    "\n",
    "driver = webdriver.Chrome(service=Service(ChromeDriverManager().install()), options=options)\n",
    "category_url = category_urls[1] \n",
    "extract_ah_products(driver, category_url)\n"
   ]
  },
  {
   "cell_type": "code",
   "execution_count": 23,
   "metadata": {},
   "outputs": [
    {
     "name": "stdout",
     "output_type": "stream",
     "text": [
      "['https://www.ah.nl/producten/aardappel-groente-fruit', 'https://www.ah.nl/producten/salades-pizza-maaltijden', 'https://www.ah.nl/producten/vlees-kip-vis-vega', 'https://www.ah.nl/producten/kaas-vleeswaren-tapas', 'https://www.ah.nl/producten/zuivel-plantaardig-en-eieren', 'https://www.ah.nl/producten/bakkerij-en-banket', 'https://www.ah.nl/producten/ontbijtgranen-en-beleg', 'https://www.ah.nl/producten/snoep-koek-chips-en-chocolade', 'https://www.ah.nl/producten/tussendoortjes', 'https://www.ah.nl/producten/frisdrank-sappen-koffie-thee', 'https://www.ah.nl/producten/wijn-en-bubbels', 'https://www.ah.nl/producten/bier-en-aperitieven', 'https://www.ah.nl/producten/pasta-rijst-en-wereldkeuken', 'https://www.ah.nl/producten/soepen-sauzen-kruiden-olie', 'https://www.ah.nl/producten/sport-en-dieetvoeding', 'https://www.ah.nl/producten/diepvries', 'https://www.ah.nl/producten/drogisterij', 'https://www.ah.nl/producten/baby-en-kind', 'https://www.ah.nl/producten/huishouden', 'https://www.ah.nl/producten/huisdier', 'https://www.ah.nl/producten/koken-tafelen-vrije-tijd']\n"
     ]
    }
   ],
   "source": [
    "print(category_urls)"
   ]
  },
  {
   "cell_type": "code",
   "execution_count": 10,
   "metadata": {},
   "outputs": [
    {
     "name": "stdout",
     "output_type": "stream",
     "text": [
      "Albert Heijn: boodschappen doen bij de grootste supermarkt. https://www.ah.nl/\n",
      "Albert Heijn (@albertheijn) · X. https://twitter.com/albertheijn?ref_src=twsrc%5Egoogle%7Ctwcamp%5Eserp%7Ctwgr%5Eauthor\n",
      "Albert Heijn (supermarkt). https://nl.wikipedia.org/wiki/Albert_Heijn_(supermarkt)\n",
      "Albert Heijn. https://www.facebook.com/albertheijn/?locale=nl_NL\n",
      "Albert Heijn (@albertheijn) • Instagram photos and videos. https://www.instagram.com/albertheijn/\n",
      "Albert Heijn supermarkt - Apps on Google Play. https://play.google.com/store/apps/details?id=com.icemobile.albertheijn&hl=en_US\n",
      "Albert Heijn. https://en.wikipedia.org/wiki/Albert_Heijn\n",
      "Meer resultaten. https://www.google.com/search?q=Albert+Heijn&sca_esv=a9728410f1a0f0fe&source=hp&ei=_GjPZb6tHrC6i-gPmIqn6Ac&iflsig=ANes7DEAAAAAZc93DDicKNT5NBXqfvmZkySf52GsfzT4&uact=5&oq=Albert+Heijn&gs_lp=Egdnd3Mtd2l6IgxBbGJlcnQgSGVpam4yERAuGIAEGLEDGMkDGMcBGNEDMgsQABiABBixAxiSAzILEAAYgAQYigUYkgMyCBAAGIAEGLEDMggQABiABBixAzIIEAAYgAQYsQMyBRAAGIAEMgUQABiABDIFEAAYgAQyCxAuGIAEGMcBGK8BSMyJAVAAWBxwAHgAkAEBmAFSoAGrAqoBATS4AQPIAQD4AQE&sclient=gws-wiz&aomd=1\n"
     ]
    }
   ],
   "source": []
  },
  {
   "cell_type": "code",
   "execution_count": null,
   "metadata": {},
   "outputs": [],
   "source": []
  }
 ],
 "metadata": {
  "kernelspec": {
   "display_name": "base",
   "language": "python",
   "name": "python3"
  },
  "language_info": {
   "codemirror_mode": {
    "name": "ipython",
    "version": 3
   },
   "file_extension": ".py",
   "mimetype": "text/x-python",
   "name": "python",
   "nbconvert_exporter": "python",
   "pygments_lexer": "ipython3",
   "version": "3.11.5"
  }
 },
 "nbformat": 4,
 "nbformat_minor": 2
}
