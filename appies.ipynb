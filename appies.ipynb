{
 "cells": [
  {
   "cell_type": "code",
   "execution_count": 2,
   "metadata": {},
   "outputs": [
    {
     "name": "stdout",
     "output_type": "stream",
     "text": [
      "Failed to retrieve the webpage. Status code: 403\n"
     ]
    }
   ],
   "source": [
    "import requests\n",
    "\n",
    "url = \"https://www.ah.nl/\"\n",
    "\n",
    "response = requests.get(url)\n",
    "\n",
    "if response.status_code == 200:\n",
    "    print(\"Here is the result:\")\n",
    "    print(f\"{response.text[:300]} ...\")\n",
    "else:\n",
    "    print(f\"Failed to retrieve the webpage. Status code: {response.status_code}\")\n"
   ]
  },
  {
   "cell_type": "code",
   "execution_count": 7,
   "metadata": {},
   "outputs": [
    {
     "ename": "AttributeError",
     "evalue": "'WebDriver' object has no attribute 'find_eements'",
     "output_type": "error",
     "traceback": [
      "\u001b[1;31m---------------------------------------------------------------------------\u001b[0m",
      "\u001b[1;31mAttributeError\u001b[0m                            Traceback (most recent call last)",
      "Cell \u001b[1;32mIn[7], line 45\u001b[0m\n\u001b[0;32m     42\u001b[0m     driver\u001b[38;5;241m.\u001b[39mquit()\n\u001b[0;32m     44\u001b[0m search_term \u001b[38;5;241m=\u001b[39m \u001b[38;5;124m\"\u001b[39m\u001b[38;5;124mAlbert Heijn\u001b[39m\u001b[38;5;124m\"\u001b[39m\n\u001b[1;32m---> 45\u001b[0m find_ah_product_page(search_term)\n",
      "Cell \u001b[1;32mIn[7], line 38\u001b[0m, in \u001b[0;36mfind_ah_product_page\u001b[1;34m(search_term)\u001b[0m\n\u001b[0;32m     35\u001b[0m producten_url \u001b[38;5;241m=\u001b[39m base_url \u001b[38;5;241m+\u001b[39m \u001b[38;5;124m\"\u001b[39m\u001b[38;5;124mproducten\u001b[39m\u001b[38;5;124m\"\u001b[39m\n\u001b[0;32m     36\u001b[0m driver\u001b[38;5;241m.\u001b[39mget(producten_url)\n\u001b[1;32m---> 38\u001b[0m categories \u001b[38;5;241m=\u001b[39m driver\u001b[38;5;241m.\u001b[39mfind_eements(By\u001b[38;5;241m.\u001b[39mCSS_SELECTOR, \u001b[38;5;124m'\u001b[39m\u001b[38;5;124mdiv.product-category-overview_category__vqzcb:nth-child(1) > div:nth-child(1) > a:nth-child(1)\u001b[39m\u001b[38;5;124m'\u001b[39m)\n\u001b[0;32m     39\u001b[0m \u001b[38;5;28;01mfor\u001b[39;00m category \u001b[38;5;129;01min\u001b[39;00m categories:\n\u001b[0;32m     40\u001b[0m     \u001b[38;5;28mprint\u001b[39m(category\u001b[38;5;241m.\u001b[39mtext)\n",
      "\u001b[1;31mAttributeError\u001b[0m: 'WebDriver' object has no attribute 'find_eements'"
     ]
    }
   ],
   "source": [
    "from selenium import webdriver\n",
    "from selenium.webdriver.chrome.options import Options\n",
    "from selenium.webdriver.chrome.service import Service\n",
    "from webdriver_manager.chrome import ChromeDriverManager\n",
    "import time\n",
    "from selenium.webdriver.common.by import By\n",
    "from selenium.webdriver.common.keys import Keys\n",
    "\n",
    "def find_ah_product_page(search_term):\n",
    "\n",
    "    options = Options()\n",
    "    user_agent = \"Mozilla/5.0 (Windows NT 10.0; Win64; x64) AppleWebKit/537.36 (KHTML, like Gecko) Chrome/98.0.4758.102 Safari/537.36\"\n",
    "    options.add_argument(f'user-agent={user_agent}')\n",
    "\n",
    "    driver = webdriver.Chrome(service=Service(ChromeDriverManager().install()))\n",
    "    driver.get(\"https://www.google.com\")\n",
    "\n",
    "    button = driver.find_element('id', 'W0wltc')\n",
    "    button.click()\n",
    "\n",
    "    search_bar = driver.find_element(\"name\", \"q\")\n",
    "    search_bar.send_keys(search_term)\n",
    "\n",
    "    search_bar.send_keys(Keys.RETURN)\n",
    "\n",
    "    time.sleep(3)\n",
    "\n",
    "    first_result = driver.find_element(By.CSS_SELECTOR, '#rso > div.hlcw0c > div > div > div > div > div > div > div > div.yuRUbf > div > span > a > h3')\n",
    "    first_result.click()\n",
    "\n",
    "    button = driver.find_element('id', 'decline-cookies')\n",
    "    button.click()\n",
    "\n",
    "    base_url = driver.current_url\n",
    "    producten_url = base_url + \"producten\"\n",
    "    driver.get(producten_url)\n",
    "\n",
    "    categories = driver.find_elements(By.CSS_SELECTOR, 'div.product-category-overview_category__vqzcb:nth-child(1) > div:nth-child(1) > a:nth-child(1)')\n",
    "    for category in categories:\n",
    "        print(category.text)\n",
    "\n",
    "    driver.quit()\n",
    "\n",
    "search_term = \"Albert Heijn\"\n",
    "find_ah_product_page(search_term)\n",
    "    \n"
   ]
  },
  {
   "cell_type": "code",
   "execution_count": 12,
   "metadata": {},
   "outputs": [
    {
     "name": "stdout",
     "output_type": "stream",
     "text": [
      "Aardappel, groente, fruit\n",
      "Salades, pizza, maaltijden\n",
      "Vlees, kip, vis, vega\n",
      "Kaas, vleeswaren, tapas\n",
      "Zuivel, plantaardig en eieren\n",
      "Bakkerij en banket\n",
      "Ontbijtgranen en beleg\n",
      "Snoep, koek, chips en chocolade\n",
      "Tussendoortjes\n",
      "Frisdrank, sappen, koffie, thee\n",
      "Wijn en bubbels\n",
      "Bier en aperitieven\n",
      "Pasta, rijst en wereldkeuken\n",
      "Soepen, sauzen, kruiden, olie\n",
      "Sport- en dieetvoeding\n",
      "Diepvries\n",
      "Drogisterij\n",
      "Baby en kind\n",
      "Huishouden\n",
      "Huisdier\n",
      "Koken, tafelen, vrije tijd\n"
     ]
    }
   ],
   "source": [
    "from selenium import webdriver\n",
    "from selenium.webdriver.chrome.options import Options\n",
    "from selenium.webdriver.chrome.service import Service\n",
    "from webdriver_manager.chrome import ChromeDriverManager\n",
    "import time\n",
    "from selenium.webdriver.common.by import By\n",
    "from selenium.webdriver.common.keys import Keys\n",
    "\n",
    "\n",
    "\n",
    "options = Options()\n",
    "user_agent = \"Mozilla/5.0 (Windows NT 10.0; Win64; x64) AppleWebKit/537.36 (KHTML, like Gecko) Chrome/98.0.4758.102 Safari/537.36\"\n",
    "options.add_argument(f'user-agent={user_agent}')\n",
    "\n",
    "driver = webdriver.Chrome(service=Service(ChromeDriverManager().install()))\n",
    "driver.get(\"https://www.ah.nl/producten\")\n",
    "\n",
    "button = driver.find_element('id', 'decline-cookies')\n",
    "button.click()\n",
    "\n",
    "time.sleep(3)\n",
    "\n",
    "try:\n",
    "    category_elements = driver.find_elements(By.CSS_SELECTOR, '.taxonomy-card_title__vBWel a')\n",
    "    for element in category_elements:\n",
    "        print(element.text)\n",
    "except Exception as e:\n",
    "    print(\"Error finding categories:\", e)\n",
    "\n",
    "driver.quit()\n",
    "    \n"
   ]
  },
  {
   "cell_type": "code",
   "execution_count": 8,
   "metadata": {},
   "outputs": [],
   "source": []
  },
  {
   "cell_type": "code",
   "execution_count": 9,
   "metadata": {},
   "outputs": [],
   "source": []
  },
  {
   "cell_type": "code",
   "execution_count": 10,
   "metadata": {},
   "outputs": [
    {
     "name": "stdout",
     "output_type": "stream",
     "text": [
      "Albert Heijn: boodschappen doen bij de grootste supermarkt. https://www.ah.nl/\n",
      "Albert Heijn (@albertheijn) · X. https://twitter.com/albertheijn?ref_src=twsrc%5Egoogle%7Ctwcamp%5Eserp%7Ctwgr%5Eauthor\n",
      "Albert Heijn (supermarkt). https://nl.wikipedia.org/wiki/Albert_Heijn_(supermarkt)\n",
      "Albert Heijn. https://www.facebook.com/albertheijn/?locale=nl_NL\n",
      "Albert Heijn (@albertheijn) • Instagram photos and videos. https://www.instagram.com/albertheijn/\n",
      "Albert Heijn supermarkt - Apps on Google Play. https://play.google.com/store/apps/details?id=com.icemobile.albertheijn&hl=en_US\n",
      "Albert Heijn. https://en.wikipedia.org/wiki/Albert_Heijn\n",
      "Meer resultaten. https://www.google.com/search?q=Albert+Heijn&sca_esv=a9728410f1a0f0fe&source=hp&ei=_GjPZb6tHrC6i-gPmIqn6Ac&iflsig=ANes7DEAAAAAZc93DDicKNT5NBXqfvmZkySf52GsfzT4&uact=5&oq=Albert+Heijn&gs_lp=Egdnd3Mtd2l6IgxBbGJlcnQgSGVpam4yERAuGIAEGLEDGMkDGMcBGNEDMgsQABiABBixAxiSAzILEAAYgAQYigUYkgMyCBAAGIAEGLEDMggQABiABBixAzIIEAAYgAQYsQMyBRAAGIAEMgUQABiABDIFEAAYgAQyCxAuGIAEGMcBGK8BSMyJAVAAWBxwAHgAkAEBmAFSoAGrAqoBATS4AQPIAQD4AQE&sclient=gws-wiz&aomd=1\n"
     ]
    }
   ],
   "source": []
  },
  {
   "cell_type": "code",
   "execution_count": null,
   "metadata": {},
   "outputs": [],
   "source": []
  }
 ],
 "metadata": {
  "kernelspec": {
   "display_name": "base",
   "language": "python",
   "name": "python3"
  },
  "language_info": {
   "codemirror_mode": {
    "name": "ipython",
    "version": 3
   },
   "file_extension": ".py",
   "mimetype": "text/x-python",
   "name": "python",
   "nbconvert_exporter": "python",
   "pygments_lexer": "ipython3",
   "version": "3.11.5"
  }
 },
 "nbformat": 4,
 "nbformat_minor": 2
}
