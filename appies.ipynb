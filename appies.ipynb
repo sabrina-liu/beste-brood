{
 "cells": [
  {
   "cell_type": "code",
   "execution_count": 2,
   "metadata": {},
   "outputs": [
    {
     "name": "stdout",
     "output_type": "stream",
     "text": [
      "Failed to retrieve the webpage. Status code: 403\n"
     ]
    }
   ],
   "source": [
    "import requests\n",
    "\n",
    "url = \"https://www.ah.nl/\"\n",
    "\n",
    "response = requests.get(url)\n",
    "\n",
    "if response.status_code == 200:\n",
    "    print(\"Here is the result:\")\n",
    "    print(f\"{response.text[:300]} ...\")\n",
    "else:\n",
    "    print(f\"Failed to retrieve the webpage. Status code: {response.status_code}\")\n"
   ]
  },
  {
   "cell_type": "code",
   "execution_count": 7,
   "metadata": {},
   "outputs": [
    {
     "ename": "AttributeError",
     "evalue": "'WebDriver' object has no attribute 'find_eements'",
     "output_type": "error",
     "traceback": [
      "\u001b[1;31m---------------------------------------------------------------------------\u001b[0m",
      "\u001b[1;31mAttributeError\u001b[0m                            Traceback (most recent call last)",
      "Cell \u001b[1;32mIn[7], line 45\u001b[0m\n\u001b[0;32m     42\u001b[0m     driver\u001b[38;5;241m.\u001b[39mquit()\n\u001b[0;32m     44\u001b[0m search_term \u001b[38;5;241m=\u001b[39m \u001b[38;5;124m\"\u001b[39m\u001b[38;5;124mAlbert Heijn\u001b[39m\u001b[38;5;124m\"\u001b[39m\n\u001b[1;32m---> 45\u001b[0m find_ah_product_page(search_term)\n",
      "Cell \u001b[1;32mIn[7], line 38\u001b[0m, in \u001b[0;36mfind_ah_product_page\u001b[1;34m(search_term)\u001b[0m\n\u001b[0;32m     35\u001b[0m producten_url \u001b[38;5;241m=\u001b[39m base_url \u001b[38;5;241m+\u001b[39m \u001b[38;5;124m\"\u001b[39m\u001b[38;5;124mproducten\u001b[39m\u001b[38;5;124m\"\u001b[39m\n\u001b[0;32m     36\u001b[0m driver\u001b[38;5;241m.\u001b[39mget(producten_url)\n\u001b[1;32m---> 38\u001b[0m categories \u001b[38;5;241m=\u001b[39m driver\u001b[38;5;241m.\u001b[39mfind_eements(By\u001b[38;5;241m.\u001b[39mCSS_SELECTOR, \u001b[38;5;124m'\u001b[39m\u001b[38;5;124mdiv.product-category-overview_category__vqzcb:nth-child(1) > div:nth-child(1) > a:nth-child(1)\u001b[39m\u001b[38;5;124m'\u001b[39m)\n\u001b[0;32m     39\u001b[0m \u001b[38;5;28;01mfor\u001b[39;00m category \u001b[38;5;129;01min\u001b[39;00m categories:\n\u001b[0;32m     40\u001b[0m     \u001b[38;5;28mprint\u001b[39m(category\u001b[38;5;241m.\u001b[39mtext)\n",
      "\u001b[1;31mAttributeError\u001b[0m: 'WebDriver' object has no attribute 'find_eements'"
     ]
    }
   ],
   "source": [
    "from selenium import webdriver\n",
    "from selenium.webdriver.chrome.options import Options\n",
    "from selenium.webdriver.chrome.service import Service\n",
    "from webdriver_manager.chrome import ChromeDriverManager\n",
    "import time\n",
    "from selenium.webdriver.common.by import By\n",
    "from selenium.webdriver.common.keys import Keys\n",
    "\n",
    "def find_ah_product_page(search_term):\n",
    "\n",
    "    options = Options()\n",
    "    user_agent = \"Mozilla/5.0 (Windows NT 10.0; Win64; x64) AppleWebKit/537.36 (KHTML, like Gecko) Chrome/98.0.4758.102 Safari/537.36\"\n",
    "    options.add_argument(f'user-agent={user_agent}')\n",
    "\n",
    "    driver = webdriver.Chrome(service=Service(ChromeDriverManager().install()))\n",
    "    driver.get(\"https://www.google.com\")\n",
    "\n",
    "    button = driver.find_element('id', 'W0wltc')\n",
    "    button.click()\n",
    "\n",
    "    search_bar = driver.find_element(\"name\", \"q\")\n",
    "    search_bar.send_keys(search_term)\n",
    "\n",
    "    search_bar.send_keys(Keys.RETURN)\n",
    "\n",
    "    time.sleep(3)\n",
    "\n",
    "    first_result = driver.find_element(By.CSS_SELECTOR, '#rso > div.hlcw0c > div > div > div > div > div > div > div > div.yuRUbf > div > span > a > h3')\n",
    "    first_result.click()\n",
    "\n",
    "    button = driver.find_element('id', 'decline-cookies')\n",
    "    button.click()\n",
    "\n",
    "    base_url = driver.current_url\n",
    "    producten_url = base_url + \"producten\"\n",
    "    driver.get(producten_url)\n",
    "\n",
    "    categories = driver.find_elements(By.CSS_SELECTOR, 'div.product-category-overview_category__vqzcb:nth-child(1) > div:nth-child(1) > a:nth-child(1)')\n",
    "    for category in categories:\n",
    "        print(category.text)\n",
    "\n",
    "    driver.quit()\n",
    "\n",
    "search_term = \"Albert Heijn\"\n",
    "find_ah_product_page(search_term)\n",
    "    \n"
   ]
  },
  {
   "cell_type": "code",
   "execution_count": 1,
   "metadata": {},
   "outputs": [],
   "source": [
    "from selenium import webdriver\n",
    "from selenium.webdriver.chrome.options import Options\n",
    "from selenium.webdriver.chrome.service import Service\n",
    "from webdriver_manager.chrome import ChromeDriverManager\n",
    "import time\n",
    "from selenium.webdriver.common.by import By\n",
    "from selenium.webdriver.common.keys import Keys\n",
    "\n",
    "\n",
    "\n",
    "options = Options()\n",
    "user_agent = \"Mozilla/5.0 (Windows NT 10.0; Win64; x64) AppleWebKit/537.36 (KHTML, like Gecko) Chrome/98.0.4758.102 Safari/537.36\"\n",
    "options.add_argument(f'user-agent={user_agent}')\n",
    "\n",
    "driver = webdriver.Chrome(service=Service(ChromeDriverManager().install()))\n",
    "driver.get(\"https://www.ah.nl/producten\")\n",
    "\n",
    "button = driver.find_element('id', 'decline-cookies')\n",
    "button.click()\n",
    "\n",
    "time.sleep(3)\n",
    "\n",
    "\n",
    "\n"
   ]
  },
  {
   "cell_type": "code",
   "execution_count": 2,
   "metadata": {},
   "outputs": [
    {
     "name": "stdout",
     "output_type": "stream",
     "text": [
      "Aardappel, groente, fruit\n",
      "https://www.ah.nl/producten/aardappel-groente-fruit\n",
      "Salades, pizza, maaltijden\n",
      "https://www.ah.nl/producten/salades-pizza-maaltijden\n",
      "Vlees, kip, vis, vega\n",
      "https://www.ah.nl/producten/vlees-kip-vis-vega\n",
      "Kaas, vleeswaren, tapas\n",
      "https://www.ah.nl/producten/kaas-vleeswaren-tapas\n",
      "Zuivel, plantaardig en eieren\n",
      "https://www.ah.nl/producten/zuivel-plantaardig-en-eieren\n",
      "Bakkerij en banket\n",
      "https://www.ah.nl/producten/bakkerij-en-banket\n",
      "Ontbijtgranen en beleg\n",
      "https://www.ah.nl/producten/ontbijtgranen-en-beleg\n",
      "Snoep, koek, chips en chocolade\n",
      "https://www.ah.nl/producten/snoep-koek-chips-en-chocolade\n",
      "Tussendoortjes\n",
      "https://www.ah.nl/producten/tussendoortjes\n",
      "Frisdrank, sappen, koffie, thee\n",
      "https://www.ah.nl/producten/frisdrank-sappen-koffie-thee\n",
      "Wijn en bubbels\n",
      "https://www.ah.nl/producten/wijn-en-bubbels\n",
      "Bier en aperitieven\n",
      "https://www.ah.nl/producten/bier-en-aperitieven\n",
      "Pasta, rijst en wereldkeuken\n",
      "https://www.ah.nl/producten/pasta-rijst-en-wereldkeuken\n",
      "Soepen, sauzen, kruiden, olie\n",
      "https://www.ah.nl/producten/soepen-sauzen-kruiden-olie\n",
      "Sport- en dieetvoeding\n",
      "https://www.ah.nl/producten/sport-en-dieetvoeding\n",
      "Diepvries\n",
      "https://www.ah.nl/producten/diepvries\n",
      "Drogisterij\n",
      "https://www.ah.nl/producten/drogisterij\n",
      "Baby en kind\n",
      "https://www.ah.nl/producten/baby-en-kind\n",
      "Huishouden\n",
      "https://www.ah.nl/producten/huishouden\n",
      "Huisdier\n",
      "https://www.ah.nl/producten/huisdier\n",
      "Koken, tafelen, vrije tijd\n",
      "https://www.ah.nl/producten/koken-tafelen-vrije-tijd\n"
     ]
    }
   ],
   "source": [
    "category_urls = []\n",
    "\n",
    "try:\n",
    "    category_elements = driver.find_elements(By.CSS_SELECTOR, '.taxonomy-card_title__vBWel a')\n",
    "    for element in category_elements:\n",
    "        print(element.text)\n",
    "        href = element.get_attribute('href')\n",
    "        category_urls.append(href)\n",
    "        print(href)\n",
    "except Exception as e:\n",
    "    print(\"Error finding categories:\", e)"
   ]
  },
  {
   "cell_type": "code",
   "execution_count": 5,
   "metadata": {},
   "outputs": [
    {
     "name": "stdout",
     "output_type": "stream",
     "text": [
      "['https://www.ah.nl/producten/bakkerij-en-banket', 'https://www.ah.nl/producten/ontbijtgranen-en-beleg', 'https://www.ah.nl/producten/snoep-koek-chips-en-chocolade', 'https://www.ah.nl/producten/tussendoortjes', 'https://www.ah.nl/producten/frisdrank-sappen-koffie-thee', 'https://www.ah.nl/producten/wijn-en-bubbels', 'https://www.ah.nl/producten/bier-en-aperitieven', 'https://www.ah.nl/producten/pasta-rijst-en-wereldkeuken', 'https://www.ah.nl/producten/soepen-sauzen-kruiden-olie', 'https://www.ah.nl/producten/sport-en-dieetvoeding', 'https://www.ah.nl/producten/diepvries']\n"
     ]
    }
   ],
   "source": [
    "category_urls = category_urls[0:16]\n",
    "\n",
    "category_urls2 = category_urls[5:16]\n",
    "\n",
    "print(category_urls2)\n"
   ]
  },
  {
   "cell_type": "code",
   "execution_count": 15,
   "metadata": {},
   "outputs": [],
   "source": [
    "from selenium.common.exceptions import NoSuchElementException, ElementClickInterceptedException\n",
    "from selenium.webdriver.support.ui import WebDriverWait\n",
    "from selenium.webdriver.support import expected_conditions as EC\n",
    "import pandas as pd\n",
    "\n",
    "\n",
    "\n",
    "\n",
    "def extract_ah_products(driver, category_url):\n",
    "    producten = []\n",
    "\n",
    "    \n",
    "    driver.get(category_url)\n",
    "    driver.maximize_window()\n",
    "\n",
    "\n",
    "    button = driver.find_element('id', 'decline-cookies')\n",
    "    button.click()\n",
    "\n",
    "    wait = WebDriverWait(driver, timeout = 30)\n",
    "    wait.until(EC.presence_of_element_located((By.CSS_SELECTOR, '[aria-label=\"Filter op Merk: AH\"]')))\n",
    "    try:\n",
    "        \n",
    "        ah_filter = driver.find_element(By.CSS_SELECTOR, '[aria-label=\"Filter op Merk: AH\"]')\n",
    "        ah_filter.click()\n",
    "        \n",
    "    except NoSuchElementException:\n",
    "        print(\"AH filter not found\")\n",
    "    \n",
    "\n",
    "    while True:\n",
    "        try:\n",
    "            wait.until(EC.presence_of_element_located((By.CSS_SELECTOR, '[data-testhook=\"load-more\"]')))\n",
    "            meer_resulten = driver.find_element(By.CSS_SELECTOR, '[data-testhook=\"load-more\"]')\n",
    "            meer_resulten.click()\n",
    "\n",
    "        except:\n",
    "            break\n",
    "\n",
    "    products = driver.find_elements(By.CSS_SELECTOR, '[data-testhook=\"product-card\"]')\n",
    "    for product in products:\n",
    "        try:\n",
    "            alleen_in_de_winkel = product.find_element(By.CSS_SELECTOR, '[data-testhook=\"product-availability-label\"]')\n",
    "            if \"Alleen in de winkel\" in alleen_in_de_winkel.text:\n",
    "                product_name = product.find_element(By.CSS_SELECTOR, '[data-testhook=\"product-title\"]').text\n",
    "                product_link = product.find_element(By.CSS_SELECTOR, 'a').get_attribute('href')\n",
    "                print(product_name)\n",
    "                producten.append({'name': product_name, 'link': product_link})\n",
    "                print(product_link)\n",
    "        except NoSuchElementException:\n",
    "            continue\n",
    "    \n",
    "    driver.quit()\n",
    "    return producten\n",
    "\n",
    "\n",
    "\n",
    "\n",
    "\n",
    "\n"
   ]
  },
  {
   "cell_type": "code",
   "execution_count": 18,
   "metadata": {},
   "outputs": [
    {
     "ename": "NoSuchElementException",
     "evalue": "Message: no such element: Unable to locate element: {\"method\":\"css selector\",\"selector\":\"[id=\"decline-cookies\"]\"}\n  (Session info: chrome=121.0.6167.185); For documentation on this error, please visit: https://www.selenium.dev/documentation/webdriver/troubleshooting/errors#no-such-element-exception\nStacktrace:\n\tGetHandleVerifier [0x0093E123+48179]\n\t(No symbol) [0x008C5D01]\n\t(No symbol) [0x007AD72D]\n\t(No symbol) [0x007E572B]\n\t(No symbol) [0x007E586B]\n\t(No symbol) [0x0081C5B2]\n\t(No symbol) [0x00803CD4]\n\t(No symbol) [0x0081AA1E]\n\t(No symbol) [0x00803A26]\n\t(No symbol) [0x007DB7BC]\n\t(No symbol) [0x007DC62D]\n\tGetHandleVerifier [0x00C57C33+3299139]\n\tGetHandleVerifier [0x00C95BF2+3553026]\n\tGetHandleVerifier [0x00C90BCC+3532508]\n\tGetHandleVerifier [0x009D494E+664670]\n\t(No symbol) [0x008D0AB4]\n\t(No symbol) [0x008CBF08]\n\t(No symbol) [0x008CC02D]\n\t(No symbol) [0x008BDD00]\n\tBaseThreadInitThunk [0x76BA7BA9+25]\n\tRtlInitializeExceptionChain [0x7728BD2B+107]\n\tRtlClearBits [0x7728BCAF+191]\n",
     "output_type": "error",
     "traceback": [
      "\u001b[1;31m---------------------------------------------------------------------------\u001b[0m",
      "\u001b[1;31mNoSuchElementException\u001b[0m                    Traceback (most recent call last)",
      "Cell \u001b[1;32mIn[18], line 4\u001b[0m\n\u001b[0;32m      1\u001b[0m driver \u001b[38;5;241m=\u001b[39m webdriver\u001b[38;5;241m.\u001b[39mChrome(service\u001b[38;5;241m=\u001b[39mService(ChromeDriverManager()\u001b[38;5;241m.\u001b[39minstall()), options\u001b[38;5;241m=\u001b[39moptions)\n\u001b[0;32m      3\u001b[0m all_products \u001b[38;5;241m=\u001b[39m []\n\u001b[1;32m----> 4\u001b[0m product_list \u001b[38;5;241m=\u001b[39m extract_ah_products(driver, category_urls[\u001b[38;5;241m5\u001b[39m])\n\u001b[0;32m      5\u001b[0m all_products\u001b[38;5;241m.\u001b[39mextend(product_list)\n\u001b[0;32m      7\u001b[0m df \u001b[38;5;241m=\u001b[39m pd\u001b[38;5;241m.\u001b[39mDataFrame(product_list)\n",
      "Cell \u001b[1;32mIn[15], line 17\u001b[0m, in \u001b[0;36mextract_ah_products\u001b[1;34m(driver, category_url)\u001b[0m\n\u001b[0;32m     13\u001b[0m driver\u001b[38;5;241m.\u001b[39mget(category_url)\n\u001b[0;32m     14\u001b[0m driver\u001b[38;5;241m.\u001b[39mmaximize_window()\n\u001b[1;32m---> 17\u001b[0m button \u001b[38;5;241m=\u001b[39m driver\u001b[38;5;241m.\u001b[39mfind_element(\u001b[38;5;124m'\u001b[39m\u001b[38;5;124mid\u001b[39m\u001b[38;5;124m'\u001b[39m, \u001b[38;5;124m'\u001b[39m\u001b[38;5;124mdecline-cookies\u001b[39m\u001b[38;5;124m'\u001b[39m)\n\u001b[0;32m     18\u001b[0m button\u001b[38;5;241m.\u001b[39mclick()\n\u001b[0;32m     20\u001b[0m wait \u001b[38;5;241m=\u001b[39m WebDriverWait(driver, timeout \u001b[38;5;241m=\u001b[39m \u001b[38;5;241m30\u001b[39m)\n",
      "File \u001b[1;32mc:\\Users\\sabri\\anaconda3\\Lib\\site-packages\\selenium\\webdriver\\remote\\webdriver.py:738\u001b[0m, in \u001b[0;36mWebDriver.find_element\u001b[1;34m(self, by, value)\u001b[0m\n\u001b[0;32m    735\u001b[0m     by \u001b[38;5;241m=\u001b[39m By\u001b[38;5;241m.\u001b[39mCSS_SELECTOR\n\u001b[0;32m    736\u001b[0m     value \u001b[38;5;241m=\u001b[39m \u001b[38;5;124mf\u001b[39m\u001b[38;5;124m'\u001b[39m\u001b[38;5;124m[name=\u001b[39m\u001b[38;5;124m\"\u001b[39m\u001b[38;5;132;01m{\u001b[39;00mvalue\u001b[38;5;132;01m}\u001b[39;00m\u001b[38;5;124m\"\u001b[39m\u001b[38;5;124m]\u001b[39m\u001b[38;5;124m'\u001b[39m\n\u001b[1;32m--> 738\u001b[0m \u001b[38;5;28;01mreturn\u001b[39;00m \u001b[38;5;28mself\u001b[39m\u001b[38;5;241m.\u001b[39mexecute(Command\u001b[38;5;241m.\u001b[39mFIND_ELEMENT, {\u001b[38;5;124m\"\u001b[39m\u001b[38;5;124musing\u001b[39m\u001b[38;5;124m\"\u001b[39m: by, \u001b[38;5;124m\"\u001b[39m\u001b[38;5;124mvalue\u001b[39m\u001b[38;5;124m\"\u001b[39m: value})[\u001b[38;5;124m\"\u001b[39m\u001b[38;5;124mvalue\u001b[39m\u001b[38;5;124m\"\u001b[39m]\n",
      "File \u001b[1;32mc:\\Users\\sabri\\anaconda3\\Lib\\site-packages\\selenium\\webdriver\\remote\\webdriver.py:344\u001b[0m, in \u001b[0;36mWebDriver.execute\u001b[1;34m(self, driver_command, params)\u001b[0m\n\u001b[0;32m    342\u001b[0m response \u001b[38;5;241m=\u001b[39m \u001b[38;5;28mself\u001b[39m\u001b[38;5;241m.\u001b[39mcommand_executor\u001b[38;5;241m.\u001b[39mexecute(driver_command, params)\n\u001b[0;32m    343\u001b[0m \u001b[38;5;28;01mif\u001b[39;00m response:\n\u001b[1;32m--> 344\u001b[0m     \u001b[38;5;28mself\u001b[39m\u001b[38;5;241m.\u001b[39merror_handler\u001b[38;5;241m.\u001b[39mcheck_response(response)\n\u001b[0;32m    345\u001b[0m     response[\u001b[38;5;124m\"\u001b[39m\u001b[38;5;124mvalue\u001b[39m\u001b[38;5;124m\"\u001b[39m] \u001b[38;5;241m=\u001b[39m \u001b[38;5;28mself\u001b[39m\u001b[38;5;241m.\u001b[39m_unwrap_value(response\u001b[38;5;241m.\u001b[39mget(\u001b[38;5;124m\"\u001b[39m\u001b[38;5;124mvalue\u001b[39m\u001b[38;5;124m\"\u001b[39m, \u001b[38;5;28;01mNone\u001b[39;00m))\n\u001b[0;32m    346\u001b[0m     \u001b[38;5;28;01mreturn\u001b[39;00m response\n",
      "File \u001b[1;32mc:\\Users\\sabri\\anaconda3\\Lib\\site-packages\\selenium\\webdriver\\remote\\errorhandler.py:229\u001b[0m, in \u001b[0;36mErrorHandler.check_response\u001b[1;34m(self, response)\u001b[0m\n\u001b[0;32m    227\u001b[0m         alert_text \u001b[38;5;241m=\u001b[39m value[\u001b[38;5;124m\"\u001b[39m\u001b[38;5;124malert\u001b[39m\u001b[38;5;124m\"\u001b[39m]\u001b[38;5;241m.\u001b[39mget(\u001b[38;5;124m\"\u001b[39m\u001b[38;5;124mtext\u001b[39m\u001b[38;5;124m\"\u001b[39m)\n\u001b[0;32m    228\u001b[0m     \u001b[38;5;28;01mraise\u001b[39;00m exception_class(message, screen, stacktrace, alert_text)  \u001b[38;5;66;03m# type: ignore[call-arg]  # mypy is not smart enough here\u001b[39;00m\n\u001b[1;32m--> 229\u001b[0m \u001b[38;5;28;01mraise\u001b[39;00m exception_class(message, screen, stacktrace)\n",
      "\u001b[1;31mNoSuchElementException\u001b[0m: Message: no such element: Unable to locate element: {\"method\":\"css selector\",\"selector\":\"[id=\"decline-cookies\"]\"}\n  (Session info: chrome=121.0.6167.185); For documentation on this error, please visit: https://www.selenium.dev/documentation/webdriver/troubleshooting/errors#no-such-element-exception\nStacktrace:\n\tGetHandleVerifier [0x0093E123+48179]\n\t(No symbol) [0x008C5D01]\n\t(No symbol) [0x007AD72D]\n\t(No symbol) [0x007E572B]\n\t(No symbol) [0x007E586B]\n\t(No symbol) [0x0081C5B2]\n\t(No symbol) [0x00803CD4]\n\t(No symbol) [0x0081AA1E]\n\t(No symbol) [0x00803A26]\n\t(No symbol) [0x007DB7BC]\n\t(No symbol) [0x007DC62D]\n\tGetHandleVerifier [0x00C57C33+3299139]\n\tGetHandleVerifier [0x00C95BF2+3553026]\n\tGetHandleVerifier [0x00C90BCC+3532508]\n\tGetHandleVerifier [0x009D494E+664670]\n\t(No symbol) [0x008D0AB4]\n\t(No symbol) [0x008CBF08]\n\t(No symbol) [0x008CC02D]\n\t(No symbol) [0x008BDD00]\n\tBaseThreadInitThunk [0x76BA7BA9+25]\n\tRtlInitializeExceptionChain [0x7728BD2B+107]\n\tRtlClearBits [0x7728BCAF+191]\n"
     ]
    }
   ],
   "source": [
    "driver = webdriver.Chrome(service=Service(ChromeDriverManager().install()), options=options)\n",
    "\n",
    "all_products = []\n",
    "product_list = extract_ah_products(driver, category_urls[5])\n",
    "all_products.extend(product_list)\n",
    "\n",
    "df = pd.DataFrame(product_list)\n",
    "\n",
    "# Save the DataFrame to a CSV file\n",
    "df.to_csv('products.csv', index=False)\n",
    "\n",
    "print(df.head())"
   ]
  },
  {
   "cell_type": "code",
   "execution_count": 17,
   "metadata": {},
   "outputs": [
    {
     "data": {
      "text/plain": [
       "'https://www.ah.nl/producten/bakkerij-en-banket'"
      ]
     },
     "execution_count": 17,
     "metadata": {},
     "output_type": "execute_result"
    }
   ],
   "source": [
    "category_urls[5]"
   ]
  },
  {
   "cell_type": "code",
   "execution_count": null,
   "metadata": {},
   "outputs": [],
   "source": []
  }
 ],
 "metadata": {
  "kernelspec": {
   "display_name": "base",
   "language": "python",
   "name": "python3"
  },
  "language_info": {
   "codemirror_mode": {
    "name": "ipython",
    "version": 3
   },
   "file_extension": ".py",
   "mimetype": "text/x-python",
   "name": "python",
   "nbconvert_exporter": "python",
   "pygments_lexer": "ipython3",
   "version": "3.11.5"
  }
 },
 "nbformat": 4,
 "nbformat_minor": 2
}
